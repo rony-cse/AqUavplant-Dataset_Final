{
 "cells": [
  {
   "cell_type": "code",
   "execution_count": 1,
   "id": "1caf262f",
   "metadata": {},
   "outputs": [],
   "source": [
    "from PIL import Image\n",
    "import numpy as np\n",
    "import os\n",
    "import matplotlib.pyplot as plt\n",
    "import cv2\n",
    "\n",
    "\n",
    "location = 'Shapla Bil_358'  #garden\n",
    "name_of_frame = 'frame'+'1'\n",
    "\n",
    "r = os.getcwd()\n",
    "root_dir = os.path.join(r, location, name_of_frame)"
   ]
  },
  {
   "cell_type": "markdown",
   "id": "bd7c0631",
   "metadata": {},
   "source": [
    "# Binary Semantic Segmentation"
   ]
  },
  {
   "cell_type": "code",
   "execution_count": 2,
   "id": "8fc2be0e",
   "metadata": {},
   "outputs": [],
   "source": [
    "image_1 = Image.open(os.path.join(root_dir,\"bg.tif\"))   ##img1 is for Background\n",
    "image_2 = Image.open(os.path.join(root_dir,\"1.tif\"))\n",
    "image_3 = Image.open(os.path.join(root_dir,\"2.tif\"))\n",
    "#image_4 = Image.open(os.path.join(root_dir,\"3.tif\"))\n",
    "#image_5 = Image.open(os.path.join(root_dir,\"4.tif\"))\n",
    "#image_6 = Image.open(os.path.join(root_dir,\"5.tif\"))\n",
    "\n",
    "# Convert images to NumPy arrays\n",
    "array_1 = np.array(image_1)\n",
    "array_2 = np.array(image_2)\n",
    "array_3 = np.array(image_3)\n",
    "#array_4 = np.array(image_4)\n",
    "#array_5 = np.array(image_5)\n",
    "# array_6 = np.array(image_6)\n",
    "\n",
    "#################################################################\n",
    "####### NEED TO SET IT MANUALLY FROM OUR DOCUMENTED LABEL #######\n",
    "#################################################################\n",
    "class_bg_label = 0    ####label 1 is for Background ###\n",
    "class_fg_label = 1\n",
    "\n",
    "binary_mask = np.zeros_like(array_1)\n",
    "\n",
    "# Assign labels to different classes \n",
    "binary_mask[array_1 == 1] = class_bg_label  # Change 1 to the value representing class 1 in image_1\n",
    "binary_mask[array_2 == 1] = class_fg_label  \n",
    "binary_mask[array_3 == 1] = class_fg_label  \n",
    "#binary_mask[array_4 == 1] = class_fg_label \n",
    "#binary_mask[array_5 == 1] = class_fg_label\n",
    "# binary_mask[array_6 == 1] = class_fg_label"
   ]
  },
  {
   "cell_type": "markdown",
   "id": "54c42563",
   "metadata": {},
   "source": [
    "# Multiclass semantic segmentation"
   ]
  },
  {
   "cell_type": "code",
   "execution_count": 3,
   "id": "f8d5f95d",
   "metadata": {},
   "outputs": [],
   "source": [
    "#################################################################\n",
    "####### NEED TO SET IT MANUALLY FROM OUR DOCUMENTED LABEL #######\n",
    "#################################################################\n",
    "\n",
    "label_list = [0,9,5]\n",
    "bin_img_list = [array_1, array_2, array_3] #, array_4, array_5, array_5, array_6]\n",
    "\n",
    "\n",
    "class_1_label = label_list[0]    ####label 1 is for Background ###\n",
    "class_2_label = label_list[1]\n",
    "class_3_label = label_list[2]\n",
    "#class_4_label = label_list[3]\n",
    "#class_5_label = label_list[4]\n",
    "#class_6_label = label_list[5]\n",
    "#class_7_label = label_list[6]\n",
    "#class_8_label = label_list[7]\n",
    "\n",
    "multiclass_mask = np.zeros_like(array_1)\n",
    "\n",
    "# Assign labels to different classes \n",
    "multiclass_mask[array_1 == 1] = class_1_label  # Change 1 to the value representing class 1 in image_1\n",
    "multiclass_mask[array_2 == 1] = class_2_label  \n",
    "multiclass_mask[array_3 == 1] = class_3_label  \n",
    "#multiclass_mask[array_4 == 1] = class_4_label \n",
    "#multiclass_mask[array_5 == 1] = class_5_label\n",
    "#multiclass_mask[array_6 == 1] = class_6_label\n",
    "#multiclass_mask[array_7 == 1] = class_7_label\n",
    "#multiclass_mask[array_8 == 1] = class_8_label"
   ]
  },
  {
   "cell_type": "markdown",
   "id": "f7bae559",
   "metadata": {},
   "source": [
    "# Saving binary class pic for demo"
   ]
  },
  {
   "cell_type": "code",
   "execution_count": 4,
   "id": "f53252cf",
   "metadata": {},
   "outputs": [
    {
     "data": {
      "image/png": "[encoded data removed]",
      "text/plain": [
       "<Figure size 432x288 with 1 Axes>"
      ]
     },
     "metadata": {
      "needs_background": "light"
     },
     "output_type": "display_data"
    }
   ],
   "source": [
    "# Display the NumPy array as a grayscale image using Matplotlib\n",
    "plt.imshow(binary_mask, cmap='cubehelix')\n",
    "plt.axis('off') \n",
    "plt.show()\n",
    "plt.imsave(os.path.join(root_dir,f'{location}_frame{name_of_frame}_binarydemo.png'), binary_mask, cmap='cubehelix')"
   ]
  },
  {
   "cell_type": "markdown",
   "id": "c7fc875a",
   "metadata": {},
   "source": [
    "# Saving multiclass pic for demo"
   ]
  },
  {
   "cell_type": "code",
   "execution_count": 5,
   "id": "e4bc682d",
   "metadata": {},
   "outputs": [
    {
     "data": {
      "image/png": "[encoded data removed]",
      "text/plain": [
       "<Figure size 432x288 with 1 Axes>"
      ]
     },
     "metadata": {
      "needs_background": "light"
     },
     "output_type": "display_data"
    }
   ],
   "source": [
    "# Display the NumPy array as a grayscale image using Matplotlib\n",
    "plt.imshow(multiclass_mask, cmap='cubehelix')\n",
    "plt.axis('off') \n",
    "plt.show()\n",
    "plt.imsave(os.path.join(root_dir,f'{location}_frame{name_of_frame}_multiclassdemo.png'), multiclass_mask, cmap='cubehelix')"
   ]
  },
  {
   "cell_type": "code",
   "execution_count": null,
   "id": "50517d1b",
   "metadata": {},
   "outputs": [],
   "source": [
    "# np.unique(multiclass_mask)\n",
    "# np.unique(uint8_array)"
   ]
  },
  {
   "cell_type": "code",
   "execution_count": 6,
   "id": "6cd92f2a",
   "metadata": {},
   "outputs": [
    {
     "name": "stdout",
     "output_type": "stream",
     "text": [
      "[0 1]\n",
      "[0 5 9]\n"
     ]
    }
   ],
   "source": [
    "uint8_array_b = binary_mask.astype(np.uint8)\n",
    "cv2.imwrite(os.path.join(root_dir,f'{location}_frame{name_of_frame}_binarymain.png'), uint8_array_b)\n",
    "print(np.unique(uint8_array_b))\n",
    "\n",
    "uint8_array_m = multiclass_mask.astype(np.uint8)\n",
    "cv2.imwrite(os.path.join(root_dir,f'{location}_frame{name_of_frame}_multiclassmain.png'), uint8_array_m)\n",
    "print(np.unique(uint8_array_m))"
   ]
  },
  {
   "cell_type": "markdown",
   "id": "e68adc2a",
   "metadata": {},
   "source": [
    "# Reading the binary image"
   ]
  },
  {
   "cell_type": "code",
   "execution_count": 22,
   "id": "d3d7106e",
   "metadata": {},
   "outputs": [
    {
     "name": "stdout",
     "output_type": "stream",
     "text": [
      "[0 1]\n"
     ]
    }
   ],
   "source": [
    "import cv2\n",
    "image_path = os.path.join(root_dir,f'{location}_frame{name_of_frame}_binarymain.png')\n",
    "image = cv2.imread(image_path)\n",
    "gray_image = cv2.cvtColor(image, cv2.COLOR_BGR2GRAY)\n",
    "# image = (image/max(image.ravel())*255\n",
    "# cv2.imshow('Image', image)\n",
    "# cv2.waitKey(0)\n",
    "# cv2.destroyAllWindows()\n",
    "\n",
    "print(np.unique(gray_image))"
   ]
  },
  {
   "cell_type": "markdown",
   "id": "a79a617a",
   "metadata": {},
   "source": [
    "# Counting pixels"
   ]
  },
  {
   "cell_type": "code",
   "execution_count": 23,
   "id": "68104897",
   "metadata": {},
   "outputs": [
    {
     "data": {
      "text/plain": [
       "[7388940, 905460]"
      ]
     },
     "execution_count": 23,
     "metadata": {},
     "output_type": "execute_result"
    }
   ],
   "source": [
    "import numpy as np\n",
    "m = max(gray_image.ravel())\n",
    "freq_list = [0]*(m+1)\n",
    "\n",
    "total = 0\n",
    "\n",
    "for target_value in range(m+1):\n",
    "    frequency = np.count_nonzero(gray_image.ravel() == target_value)\n",
    "    freq_list[target_value] = frequency \n",
    "    total += frequency\n",
    "\n",
    "freq_list"
   ]
  },
  {
   "cell_type": "markdown",
   "id": "76ffe536",
   "metadata": {},
   "source": [
    "# Finding ratio for aquatic plants (binary)"
   ]
  },
  {
   "cell_type": "code",
   "execution_count": 24,
   "id": "45c2837c",
   "metadata": {},
   "outputs": [
    {
     "data": {
      "text/plain": [
       "[89.08347800925925, 10.91652199074074]"
      ]
     },
     "execution_count": 24,
     "metadata": {},
     "output_type": "execute_result"
    }
   ],
   "source": [
    "total_pix = gray_image.shape[0]*gray_image.shape[1]\n",
    "\n",
    "multiplier = 100\n",
    "result_list = [element * multiplier for element in freq_list]\n",
    "\n",
    "divisor = total_pix \n",
    "ratio = [element / divisor for element in result_list]\n",
    "\n",
    "ratio"
   ]
  },
  {
   "cell_type": "markdown",
   "id": "8a83fa49",
   "metadata": {},
   "source": [
    "# Reading the Multiclass Image"
   ]
  },
  {
   "cell_type": "code",
   "execution_count": 19,
   "id": "fa7d1493",
   "metadata": {},
   "outputs": [
    {
     "name": "stdout",
     "output_type": "stream",
     "text": [
      "[0 5 9]\n"
     ]
    }
   ],
   "source": [
    "import cv2\n",
    "image_path = os.path.join(root_dir,f'{location}_frame{name_of_frame}_multiclassmain.png')\n",
    "image = cv2.imread(image_path)\n",
    "gray_image = cv2.cvtColor(image, cv2.COLOR_BGR2GRAY)\n",
    "print(np.unique(gray_image))"
   ]
  },
  {
   "cell_type": "code",
   "execution_count": 20,
   "id": "bd275a16",
   "metadata": {},
   "outputs": [
    {
     "name": "stdout",
     "output_type": "stream",
     "text": [
      "[7388940, 870599, 34861]\n",
      "[89.08347800925925, 10.496226369598766, 0.42029562114197533]\n"
     ]
    }
   ],
   "source": [
    "import numpy as np\n",
    "m = len(np.unique(gray_image))\n",
    "freq_list_mc = [0]*m\n",
    "\n",
    "total = 0\n",
    "\n",
    "for i, target_value in enumerate(label_list):\n",
    "    frequency = np.sum(gray_image.ravel() == target_value)\n",
    "    freq_list_mc[i] = frequency \n",
    "    total += frequency\n",
    "\n",
    "print(freq_list_mc)\n",
    "\n",
    "\n",
    "###########################\n",
    "## Calculating percentage\n",
    "###########################\n",
    "total_pix = gray_image.shape[0]*gray_image.shape[1]\n",
    "\n",
    "multiplier = 100\n",
    "result_list = [element * multiplier for element in freq_list_mc]\n",
    "\n",
    "divisor = total_pix \n",
    "ratio_mc = [element / divisor for element in result_list]\n",
    "\n",
    "print(ratio_mc)"
   ]
  },
  {
   "cell_type": "markdown",
   "id": "18932c97",
   "metadata": {},
   "source": [
    "# Saving data to excel"
   ]
  },
  {
   "cell_type": "code",
   "execution_count": 33,
   "id": "b4d1ef63",
   "metadata": {},
   "outputs": [
    {
     "name": "stdout",
     "output_type": "stream",
     "text": [
      "              Zone     Image Name  Binary Vegetation pixel counts  \\\n",
      "0       BAU Garden  garden_frame2                         1635922   \n",
      "1  Zinda_park_0258         frame1                         1003821   \n",
      "2  Zinda_park_0258         frame1                         1003821   \n",
      "3   Shapla Bil_358         frame1                          905460   \n",
      "\n",
      "   Binary Vegetation Pixel Ratio          0   1   2   3   4        5  ...  \\\n",
      "0                      19.723211        NaN NaN NaN NaN NaN      NaN  ...   \n",
      "1                      12.102394  7290579.0 NaN NaN NaN NaN   4970.0  ...   \n",
      "2                      12.102394  7290579.0 NaN NaN NaN NaN   4970.0  ...   \n",
      "3                      10.916522  7388940.0 NaN NaN NaN NaN  34861.0  ...   \n",
      "\n",
      "   6obj  7obj  8obj   9obj  10obj  11obj  12obj  13obj  14obj  15obj  \n",
      "0   NaN   NaN   NaN    NaN    NaN    NaN    NaN    NaN    NaN    NaN  \n",
      "1   NaN   NaN   NaN    NaN    NaN    NaN    NaN    NaN    NaN    NaN  \n",
      "2   NaN   NaN   NaN    NaN    NaN    NaN    NaN    NaN    NaN    NaN  \n",
      "3   NaN   NaN   NaN  128.0    NaN    NaN    NaN    NaN    NaN    NaN  \n",
      "\n",
      "[4 rows x 43 columns]\n"
     ]
    }
   ],
   "source": [
    "import pandas as pd\n",
    "\n",
    "# Read the CSV file into a DataFrame\n",
    "df = pd.read_excel('All info of images.xlsx')\n",
    "\n",
    "# Access all rows and columns\n",
    "print(df)"
   ]
  },
  {
   "cell_type": "code",
   "execution_count": 29,
   "id": "a9ac85ef",
   "metadata": {},
   "outputs": [],
   "source": [
    "new_row = {'Zone': location, 'Image Name': name_of_frame, 'Binary Vegetation pixel counts': freq_list[1], 'Binary Vegetation Pixel Ratio':ratio[1]}  # Replace with your column names and values\n",
    "\n",
    "# Append the new row to the DataFrame\n",
    "df = df.append(new_row, ignore_index=True)\n",
    "\n",
    "#########################################\n",
    "### Saving pixels number for each class\n",
    "#########################################\n",
    "\n",
    "for j, label in enumerate(label_list):\n",
    "    des_col = df.columns.to_list().index(label)\n",
    "    df.iloc[-1, des_col] = freq_list_mc[j]\n",
    "\n",
    "            \n",
    "# # Write the updated DataFrame back to the CSV file\n",
    "# df.to_excel('All info of images.xlsx', index=False)"
   ]
  },
  {
   "cell_type": "markdown",
   "id": "489e9d0f",
   "metadata": {},
   "source": [
    "# Counting isolated objects"
   ]
  },
  {
   "cell_type": "code",
   "execution_count": 30,
   "id": "cbd8e807",
   "metadata": {},
   "outputs": [
    {
     "name": "stdout",
     "output_type": "stream",
     "text": [
      "[1, 128, 15]\n"
     ]
    }
   ],
   "source": [
    "from skimage import measure\n",
    "\n",
    "#bin_img_list = [array_1, array_2, array_3] #, array_4, array_5, array_5, array_6]\n",
    "\n",
    "obj_freq = [0]*len(bin_img_list)\n",
    "total_obj = 0\n",
    "\n",
    "for i, target_bin_img in enumerate(bin_img_list):\n",
    "    # Perform connected component analysis\n",
    "    labels = measure.label(bin_img_list[i], connectivity=2)   #binary_mask\n",
    "    # Count the number of isolated objects\n",
    "    num_objects = np.max(labels)\n",
    "    obj_freq[i] = num_objects \n",
    "    total_obj += num_objects\n",
    "\n",
    "print(obj_freq)"
   ]
  },
  {
   "cell_type": "markdown",
   "id": "21e22ec3",
   "metadata": {},
   "source": [
    "# Saving object count to excel file"
   ]
  },
  {
   "cell_type": "code",
   "execution_count": 31,
   "id": "fa1e8e0c",
   "metadata": {},
   "outputs": [],
   "source": [
    "modified_list = [str(num) + 'obj' for num in label_list]\n",
    "modified_list\n",
    "\n",
    "for j, label in enumerate(modified_list):\n",
    "    des_col = df.columns.to_list().index(label)\n",
    "    df.iloc[-1, des_col] = obj_freq[j]\n",
    "    \n",
    "    \n",
    "df.to_excel('All info of images.xlsx', index=False)"
   ]
  },
  {
   "cell_type": "code",
   "execution_count": null,
   "id": "5fba43e3",
   "metadata": {},
   "outputs": [],
   "source": []
  },
  {
   "cell_type": "code",
   "execution_count": 16,
   "id": "978e9416",
   "metadata": {},
   "outputs": [
    {
     "data": {
      "text/plain": [
       "['0obj', '9obj', '5obj']"
      ]
     },
     "execution_count": 16,
     "metadata": {},
     "output_type": "execute_result"
    }
   ],
   "source": [
    "# Perform preprocessing (e.g., thresholding)\n",
    "#_, thresh = cv2.threshold(gray_image, 127, 255, cv2.THRESH_BINARY)\n",
    "\n",
    "# Perform connected component analysis\n",
    "# labels = measure.label(array_3, connectivity=2)   #binary_mask\n",
    "\n",
    "# # Count the number of isolated objects\n",
    "# num_objects = np.max(labels)\n",
    "\n",
    "# print(\"Number of isolated objects:\", num_objects)"
   ]
  }
 ],
 "metadata": {
  "kernelspec": {
   "display_name": "Python 3",
   "language": "python",
   "name": "python3"
  },
  "language_info": {
   "codemirror_mode": {
    "name": "ipython",
    "version": 3
   },
   "file_extension": ".py",
   "mimetype": "text/x-python",
   "name": "python",
   "nbconvert_exporter": "python",
   "pygments_lexer": "ipython3",
   "version": "3.7.1"
  }
 },
 "nbformat": 4,
 "nbformat_minor": 5
}
