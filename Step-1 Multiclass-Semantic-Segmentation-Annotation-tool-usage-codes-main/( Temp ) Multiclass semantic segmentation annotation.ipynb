{
 "cells": [
  {
   "cell_type": "code",
   "execution_count": 10,
   "id": "c10c9d86",
   "metadata": {},
   "outputs": [],
   "source": [
    "from PIL import Image\n",
    "import numpy as np\n",
    "import os\n",
    "\n",
    "root_dir = 'E:\\Job\\IUB RA\\Aquatic plants Dataset\\Selected Frames\\garden pics\\garden_frame15'\n",
    "image_1 = Image.open(os.path.join(root_dir,\"bg.tif\"))   ##img1 is for Background\n",
    "image_2 = Image.open(os.path.join(root_dir,\"1.tif\"))\n",
    "image_3 = Image.open(os.path.join(root_dir,\"2.tif\"))\n",
    "image_4 = Image.open(os.path.join(root_dir,\"3.tif\"))\n",
    "image_5 = Image.open(os.path.join(root_dir,\"4.tif\"))\n",
    "\n",
    "# Convert images to NumPy arrays\n",
    "array_1 = np.array(image_1)\n",
    "array_2 = np.array(image_2)\n",
    "array_3 = np.array(image_3)\n",
    "array_4 = np.array(image_4)\n",
    "array_5 = np.array(image_5)\n",
    "\n",
    "#################################################################\n",
    "####### NEED TO SET IT MANUALLY FROM OUR DOCUMENTED LABEL #######\n",
    "#################################################################\n",
    "class_1_label = 1    ####label 1 is for Background ###\n",
    "class_2_label = 2\n",
    "class_3_label = 3\n",
    "class_4_label = 4\n",
    "class_5_label = 5\n",
    "\n",
    "multiclass_mask = np.ones_like(array_1)\n",
    "\n",
    "# Assign labels to different classes \n",
    "multiclass_mask[array_1 == 1] = class_1_label  # Change 1 to the value representing class 1 in image_1\n",
    "multiclass_mask[array_2 == 1] = class_2_label  \n",
    "multiclass_mask[array_3 == 1] = class_3_label  \n",
    "multiclass_mask[array_4 == 1] = class_4_label \n",
    "multiclass_mask[array_5 == 1] = class_5_label "
   ]
  },
  {
   "cell_type": "code",
   "execution_count": 13,
   "id": "d3ca8163",
   "metadata": {},
   "outputs": [
    {
     "data": {
      "image/png": "[encoded data removed]",
      "text/plain": [
       "<Figure size 432x288 with 1 Axes>"
      ]
     },
     "metadata": {
      "needs_background": "light"
     },
     "output_type": "display_data"
    }
   ],
   "source": [
    "import matplotlib.pyplot as plt\n",
    "\n",
    "location = 'museum'  #garden\n",
    "num_of_frame = 15\n",
    "\n",
    "# Display the NumPy array as a grayscale image using Matplotlib\n",
    "plt.imshow(multiclass_mask, cmap='gray')\n",
    "plt.axis('off') \n",
    "plt.show()\n",
    "plt.imsave(f'{location}_frame{num_of_frame}.png', multiclass_mask, cmap='gray')"
   ]
  },
  {
   "cell_type": "code",
   "execution_count": 12,
   "id": "fcc5ca76",
   "metadata": {},
   "outputs": [
    {
     "data": {
      "text/plain": [
       "array([1, 2, 3, 4, 5], dtype=uint8)"
      ]
     },
     "execution_count": 12,
     "metadata": {},
     "output_type": "execute_result"
    }
   ],
   "source": [
    "np.unique(multiclass_mask)"
   ]
  },
  {
   "cell_type": "code",
   "execution_count": null,
   "id": "ec77bbe0",
   "metadata": {},
   "outputs": [],
   "source": []
  }
 ],
 "metadata": {
  "kernelspec": {
   "display_name": "Python 3",
   "language": "python",
   "name": "python3"
  },
  "language_info": {
   "codemirror_mode": {
    "name": "ipython",
    "version": 3
   },
   "file_extension": ".py",
   "mimetype": "text/x-python",
   "name": "python",
   "nbconvert_exporter": "python",
   "pygments_lexer": "ipython3",
   "version": "3.7.1"
  }
 },
 "nbformat": 4,
 "nbformat_minor": 5
}
