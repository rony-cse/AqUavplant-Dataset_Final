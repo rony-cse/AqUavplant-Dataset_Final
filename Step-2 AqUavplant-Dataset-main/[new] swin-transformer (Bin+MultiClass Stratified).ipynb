{
 "cells": [
  {
   "cell_type": "code",
   "execution_count": 1,
   "id": "5e63ea71",
   "metadata": {
    "execution": {
     "iopub.execute_input": "2024-09-15T04:17:14.669097Z",
     "iopub.status.busy": "2024-09-15T04:17:14.668221Z",
     "iopub.status.idle": "2024-09-15T04:17:36.589985Z",
     "shell.execute_reply": "2024-09-15T04:17:36.588999Z"
    },
    "papermill": {
     "duration": 21.930785,
     "end_time": "2024-09-15T04:17:36.592516",
     "exception": false,
     "start_time": "2024-09-15T04:17:14.661731",
     "status": "completed"
    },
    "tags": []
   },
   "outputs": [],
   "source": [
    "import torch\n",
    "import torch.nn as nn\n",
    "import torch.optim as optim\n",
    "from torch.utils.data import DataLoader\n",
    "from transformers import SegformerForSemanticSegmentation\n",
    "from tqdm import tqdm\n",
    "import time\n",
    "import numpy as np\n",
    "import matplotlib.pyplot as plt\n",
    "from sklearn.metrics import f1_score\n",
    "import math\n",
    "import os\n",
    "import torch \n",
    "import torchvision\n",
    "import torch.nn as nn\n",
    "import scipy.io\n",
    "import torchvision.transforms as transforms\n",
    "import torch.optim as optim\n",
    "import matplotlib.pyplot as plt\n",
    "import torch.nn.functional as F\n",
    "import numpy as np\n",
    "import pandas as pd\n",
    "from tqdm import tqdm\n",
    "import time\n",
    "import re\n",
    "import cv2\n",
    "import math\n",
    "import os\n",
    "import re\n",
    "import cv2\n",
    "import numpy as np\n",
    "import random\n",
    "import torch\n",
    "from torch.utils.data import Dataset, DataLoader\n",
    "from keras.utils import to_categorical\n",
    "from tqdm import tqdm\n",
    "import time\n",
    "import math\n",
    "import os\n",
    "import re\n",
    "import cv2\n",
    "import numpy as np\n",
    "import torch\n",
    "from keras.utils import to_categorical\n",
    "import random"
   ]
  },
  {
   "cell_type": "code",
   "execution_count": 2,
   "id": "1b9d20b1",
   "metadata": {
    "execution": {
     "iopub.execute_input": "2024-09-15T04:17:36.604061Z",
     "iopub.status.busy": "2024-09-15T04:17:36.602998Z",
     "iopub.status.idle": "2024-09-15T04:17:52.143708Z",
     "shell.execute_reply": "2024-09-15T04:17:52.142472Z"
    },
    "papermill": {
     "duration": 15.548571,
     "end_time": "2024-09-15T04:17:52.146180",
     "exception": false,
     "start_time": "2024-09-15T04:17:36.597609",
     "status": "completed"
    },
    "tags": []
   },
   "outputs": [
    {
     "name": "stderr",
     "output_type": "stream",
     "text": [
      "/opt/conda/lib/python3.10/pty.py:89: RuntimeWarning: os.fork() was called. os.fork() is incompatible with multithreaded code, and JAX is multithreaded, so this will likely lead to a deadlock.\n",
      "  pid, fd = os.forkpty()\n"
     ]
    },
    {
     "name": "stdout",
     "output_type": "stream",
     "text": [
      "Requirement already satisfied: torch in /opt/conda/lib/python3.10/site-packages (2.4.0)\r\n",
      "Requirement already satisfied: torchvision in /opt/conda/lib/python3.10/site-packages (0.19.0)\r\n",
      "Requirement already satisfied: transformers in /opt/conda/lib/python3.10/site-packages (4.44.0)\r\n",
      "Requirement already satisfied: timm in /opt/conda/lib/python3.10/site-packages (1.0.8)\r\n",
      "Requirement already satisfied: filelock in /opt/conda/lib/python3.10/site-packages (from torch) (3.15.1)\r\n",
      "Requirement already satisfied: typing-extensions>=4.8.0 in /opt/conda/lib/python3.10/site-packages (from torch) (4.12.2)\r\n",
      "Requirement already satisfied: sympy in /opt/conda/lib/python3.10/site-packages (from torch) (1.13.2)\r\n",
      "Requirement already satisfied: networkx in /opt/conda/lib/python3.10/site-packages (from torch) (3.3)\r\n",
      "Requirement already satisfied: jinja2 in /opt/conda/lib/python3.10/site-packages (from torch) (3.1.4)\r\n",
      "Requirement already satisfied: fsspec in /opt/conda/lib/python3.10/site-packages (from torch) (2024.6.1)\r\n",
      "Requirement already satisfied: numpy in /opt/conda/lib/python3.10/site-packages (from torchvision) (1.26.4)\r\n",
      "Requirement already satisfied: pillow!=8.3.*,>=5.3.0 in /opt/conda/lib/python3.10/site-packages (from torchvision) (9.5.0)\r\n",
      "Requirement already satisfied: huggingface-hub<1.0,>=0.23.2 in /opt/conda/lib/python3.10/site-packages (from transformers) (0.24.6)\r\n",
      "Requirement already satisfied: packaging>=20.0 in /opt/conda/lib/python3.10/site-packages (from transformers) (21.3)\r\n",
      "Requirement already satisfied: pyyaml>=5.1 in /opt/conda/lib/python3.10/site-packages (from transformers) (6.0.2)\r\n",
      "Requirement already satisfied: regex!=2019.12.17 in /opt/conda/lib/python3.10/site-packages (from transformers) (2024.5.15)\r\n",
      "Requirement already satisfied: requests in /opt/conda/lib/python3.10/site-packages (from transformers) (2.32.3)\r\n",
      "Requirement already satisfied: safetensors>=0.4.1 in /opt/conda/lib/python3.10/site-packages (from transformers) (0.4.4)\r\n",
      "Requirement already satisfied: tokenizers<0.20,>=0.19 in /opt/conda/lib/python3.10/site-packages (from transformers) (0.19.1)\r\n",
      "Requirement already satisfied: tqdm>=4.27 in /opt/conda/lib/python3.10/site-packages (from transformers) (4.66.4)\r\n",
      "Requirement already satisfied: pyparsing!=3.0.5,>=2.0.2 in /opt/conda/lib/python3.10/site-packages (from packaging>=20.0->transformers) (3.1.2)\r\n",
      "Requirement already satisfied: MarkupSafe>=2.0 in /opt/conda/lib/python3.10/site-packages (from jinja2->torch) (2.1.5)\r\n",
      "Requirement already satisfied: charset-normalizer<4,>=2 in /opt/conda/lib/python3.10/site-packages (from requests->transformers) (3.3.2)\r\n",
      "Requirement already satisfied: idna<4,>=2.5 in /opt/conda/lib/python3.10/site-packages (from requests->transformers) (3.7)\r\n",
      "Requirement already satisfied: urllib3<3,>=1.21.1 in /opt/conda/lib/python3.10/site-packages (from requests->transformers) (1.26.18)\r\n",
      "Requirement already satisfied: certifi>=2017.4.17 in /opt/conda/lib/python3.10/site-packages (from requests->transformers) (2024.7.4)\r\n",
      "Requirement already satisfied: mpmath<1.4,>=1.1.0 in /opt/conda/lib/python3.10/site-packages (from sympy->torch) (1.3.0)\r\n"
     ]
    }
   ],
   "source": [
    "!pip install torch torchvision transformers timm"
   ]
  },
  {
   "cell_type": "code",
   "execution_count": 3,
   "id": "b8d678dd",
   "metadata": {
    "execution": {
     "iopub.execute_input": "2024-09-15T04:17:52.158870Z",
     "iopub.status.busy": "2024-09-15T04:17:52.158488Z",
     "iopub.status.idle": "2024-09-15T04:17:53.329739Z",
     "shell.execute_reply": "2024-09-15T04:17:53.328628Z"
    },
    "papermill": {
     "duration": 1.18079,
     "end_time": "2024-09-15T04:17:53.332318",
     "exception": false,
     "start_time": "2024-09-15T04:17:52.151528",
     "status": "completed"
    },
    "tags": []
   },
   "outputs": [],
   "source": [
    "def find_numerical_part(string):\n",
    "    # Use regex to find numerical part in the string\n",
    "    numerical_part = re.findall(r'\\d+', string)[0]\n",
    "    return numerical_part\n",
    "\n",
    "def excluding_classes(img, classes_to_exclude):\n",
    "    indices = np.where(np.isin(img, classes_to_exclude))\n",
    "    img[indices] = 0   # changes them to background (0)\n",
    "    return img\n",
    "\n",
    "n_classes = 32\n",
    "# classes_to_exclude = list(range(8, 32))  # Classes 8 to 31\n",
    "\n",
    "class aquatic_plant_dataset:\n",
    "    def __init__(self, imagePaths, transforms, mode, img_target_shape=512):\n",
    "        # store the image and mask filepaths, and augmentation\n",
    "        self.imagePaths = imagePaths\n",
    "        self.transforms = transforms\n",
    "        self.mode = mode\n",
    "        self.train_list = []\n",
    "        self.val_list = []\n",
    "        self.test_list = []\n",
    "        self.target_shape = (img_target_shape, img_target_shape)\n",
    "        \n",
    "        if self.mode == 'train':\n",
    "            root_dir = self.imagePaths\n",
    "            # Walk through all directories and subdirectories\n",
    "            for root, dirs, files in os.walk(self.imagePaths):\n",
    "                for directory in dirs:\n",
    "                    if 'frame' in directory:\n",
    "                        self.train_list.append(os.path.join(root, directory))\n",
    "        \n",
    "        elif self.mode == 'val':\n",
    "            # Walk through all directories and subdirectories\n",
    "            for root, dirs, files in os.walk(self.imagePaths):\n",
    "                for directory in dirs:\n",
    "                    if 'frame' in directory:\n",
    "                        self.val_list.append(os.path.join(root, directory))\n",
    "                        \n",
    "        else:\n",
    "            # Walk through all directories and subdirectories\n",
    "            for root, dirs, files in os.walk(self.imagePaths):\n",
    "                for directory in dirs:\n",
    "                    if 'frame' in directory:\n",
    "                        self.test_list.append(os.path.join(root, directory))\n",
    "\n",
    "    def __len__(self):\n",
    "        if self.mode == 'train':\n",
    "            return len(self.train_list)\n",
    "        elif self.mode == 'val':\n",
    "            return len(self.val_list)\n",
    "        else:\n",
    "            return len(self.test_list)\n",
    "    \n",
    "    def __getitem__(self, idx):\n",
    "        if self.mode == 'train':\n",
    "            folder_dir = self.train_list[idx]\n",
    "        elif self.mode == 'val':\n",
    "            folder_dir = self.val_list[idx]\n",
    "        else:\n",
    "            folder_dir = self.test_list[idx]\n",
    "\n",
    "        frame_name = folder_dir.split('/')[-1]\n",
    "        loc_name = folder_dir.split('/')[-2]\n",
    "        numeral = find_numerical_part(frame_name)\n",
    "        \n",
    "        image_path = os.path.join(folder_dir, f'{loc_name}_{numeral}_multiclass.png')  \n",
    "        multi_mask = cv2.imread(image_path, cv2.IMREAD_GRAYSCALE)\n",
    "        \n",
    "        raw_path = os.path.join(folder_dir, f'frame_{numeral}.jpg')  \n",
    "        raw_img = cv2.imread(raw_path)  \n",
    "        \n",
    "        # Exclude unwanted classes\n",
    "        multi_mask = excluding_classes(multi_mask, n_classes)\n",
    "        \n",
    "        if self.transforms is not None:\n",
    "            target_size = self.target_shape\n",
    "            raw_img = cv2.resize(raw_img, target_size, interpolation=cv2.INTER_NEAREST)\n",
    "            multi_mask = cv2.resize(multi_mask, target_size, interpolation=cv2.INTER_NEAREST)\n",
    "            \n",
    "            # Augmentation\n",
    "            if self.mode == 'train':\n",
    "                # Random horizontal flip\n",
    "                if random.random() > 0.5:\n",
    "                    raw_img = cv2.flip(raw_img, 1)\n",
    "                    multi_mask = cv2.flip(multi_mask, 1)\n",
    "\n",
    "                # Random vertical flip\n",
    "                if random.random() > 0.5:\n",
    "                    raw_img = cv2.flip(raw_img, 0)\n",
    "                    multi_mask = cv2.flip(multi_mask, 0)\n",
    "\n",
    "                # Random rotation\n",
    "                angle = random.choice([0, 45, 90])\n",
    "                if angle != 0:\n",
    "                    center = (target_size[0] // 2, target_size[1] // 2)\n",
    "                    M = cv2.getRotationMatrix2D(center, angle, 1.0)\n",
    "                    raw_img = cv2.warpAffine(raw_img, M, target_size)\n",
    "                    multi_mask = cv2.warpAffine(multi_mask, M, target_size, flags=cv2.INTER_NEAREST)\n",
    "        \n",
    "        multi_mask_expand = to_categorical(multi_mask, num_classes=n_classes)\n",
    "        \n",
    "        raw_img = np.transpose(raw_img, axes=(2, 0, 1))\n",
    "        multi_mask_expand = np.transpose(multi_mask_expand, axes=(2, 0, 1))\n",
    "        \n",
    "        return torch.from_numpy(raw_img), torch.from_numpy(multi_mask_expand), torch.from_numpy(multi_mask)\n",
    "              \n",
    "train_dataset = aquatic_plant_dataset('/kaggle/input/aquavdatasetmain/Stratified_split/Train', True, 'train')\n",
    "val_dataset = aquatic_plant_dataset('/kaggle/input/aquavdatasetmain/Stratified_split/Validation', True, 'val')\n",
    "test_dataset = aquatic_plant_dataset('/kaggle/input/aquavdatasetmain/Stratified_split/Test', True, 'test')"
   ]
  },
  {
   "cell_type": "code",
   "execution_count": 4,
   "id": "e985dd26",
   "metadata": {
    "execution": {
     "iopub.execute_input": "2024-09-15T04:17:53.343624Z",
     "iopub.status.busy": "2024-09-15T04:17:53.343241Z",
     "iopub.status.idle": "2024-09-15T04:17:53.414687Z",
     "shell.execute_reply": "2024-09-15T04:17:53.413814Z"
    },
    "papermill": {
     "duration": 0.079429,
     "end_time": "2024-09-15T04:17:53.416693",
     "exception": false,
     "start_time": "2024-09-15T04:17:53.337264",
     "status": "completed"
    },
    "tags": []
   },
   "outputs": [],
   "source": [
    "BATCH_SIZE = 4\n",
    "train_loader = DataLoader(train_dataset, batch_size=BATCH_SIZE, num_workers=0)\n",
    "val_loader = DataLoader(val_dataset, batch_size=BATCH_SIZE, num_workers=0)\n",
    "test_loader = DataLoader(test_dataset, batch_size=1, num_workers=0)\n",
    "\n",
    "device = torch.device(\"cuda:0\" if torch.cuda.is_available() else \"CPU\")\n"
   ]
  },
  {
   "cell_type": "code",
   "execution_count": 5,
   "id": "7da8b511",
   "metadata": {
    "execution": {
     "iopub.execute_input": "2024-09-15T04:17:53.428766Z",
     "iopub.status.busy": "2024-09-15T04:17:53.428393Z",
     "iopub.status.idle": "2024-09-15T04:17:55.444291Z",
     "shell.execute_reply": "2024-09-15T04:17:55.443183Z"
    },
    "papermill": {
     "duration": 2.026781,
     "end_time": "2024-09-15T04:17:55.448551",
     "exception": false,
     "start_time": "2024-09-15T04:17:53.421770",
     "status": "completed"
    },
    "tags": []
   },
   "outputs": [
    {
     "name": "stdout",
     "output_type": "stream",
     "text": [
      "SwinTransformer(\n",
      "  (patch_embed): PatchEmbed(\n",
      "    (proj): Conv2d(3, 96, kernel_size=(4, 4), stride=(4, 4))\n",
      "    (norm): LayerNorm((96,), eps=1e-05, elementwise_affine=True)\n",
      "  )\n",
      "  (layers): Sequential(\n",
      "    (0): SwinTransformerStage(\n",
      "      (downsample): Identity()\n",
      "      (blocks): Sequential(\n",
      "        (0): SwinTransformerBlock(\n",
      "          (norm1): LayerNorm((96,), eps=1e-05, elementwise_affine=True)\n",
      "          (attn): WindowAttention(\n",
      "            (qkv): Linear(in_features=96, out_features=288, bias=True)\n",
      "            (attn_drop): Dropout(p=0.0, inplace=False)\n",
      "            (proj): Linear(in_features=96, out_features=96, bias=True)\n",
      "            (proj_drop): Dropout(p=0.0, inplace=False)\n",
      "            (softmax): Softmax(dim=-1)\n",
      "          )\n",
      "          (drop_path1): Identity()\n",
      "          (norm2): LayerNorm((96,), eps=1e-05, elementwise_affine=True)\n",
      "          (mlp): Mlp(\n",
      "            (fc1): Linear(in_features=96, out_features=384, bias=True)\n",
      "            (act): GELU(approximate='none')\n",
      "            (drop1): Dropout(p=0.0, inplace=False)\n",
      "            (norm): Identity()\n",
      "            (fc2): Linear(in_features=384, out_features=96, bias=True)\n",
      "            (drop2): Dropout(p=0.0, inplace=False)\n",
      "          )\n",
      "          (drop_path2): Identity()\n",
      "        )\n",
      "        (1): SwinTransformerBlock(\n",
      "          (norm1): LayerNorm((96,), eps=1e-05, elementwise_affine=True)\n",
      "          (attn): WindowAttention(\n",
      "            (qkv): Linear(in_features=96, out_features=288, bias=True)\n",
      "            (attn_drop): Dropout(p=0.0, inplace=False)\n",
      "            (proj): Linear(in_features=96, out_features=96, bias=True)\n",
      "            (proj_drop): Dropout(p=0.0, inplace=False)\n",
      "            (softmax): Softmax(dim=-1)\n",
      "          )\n",
      "          (drop_path1): DropPath(drop_prob=0.009)\n",
      "          (norm2): LayerNorm((96,), eps=1e-05, elementwise_affine=True)\n",
      "          (mlp): Mlp(\n",
      "            (fc1): Linear(in_features=96, out_features=384, bias=True)\n",
      "            (act): GELU(approximate='none')\n",
      "            (drop1): Dropout(p=0.0, inplace=False)\n",
      "            (norm): Identity()\n",
      "            (fc2): Linear(in_features=384, out_features=96, bias=True)\n",
      "            (drop2): Dropout(p=0.0, inplace=False)\n",
      "          )\n",
      "          (drop_path2): DropPath(drop_prob=0.009)\n",
      "        )\n",
      "      )\n",
      "    )\n",
      "    (1): SwinTransformerStage(\n",
      "      (downsample): PatchMerging(\n",
      "        (norm): LayerNorm((384,), eps=1e-05, elementwise_affine=True)\n",
      "        (reduction): Linear(in_features=384, out_features=192, bias=False)\n",
      "      )\n",
      "      (blocks): Sequential(\n",
      "        (0): SwinTransformerBlock(\n",
      "          (norm1): LayerNorm((192,), eps=1e-05, elementwise_affine=True)\n",
      "          (attn): WindowAttention(\n",
      "            (qkv): Linear(in_features=192, out_features=576, bias=True)\n",
      "            (attn_drop): Dropout(p=0.0, inplace=False)\n",
      "            (proj): Linear(in_features=192, out_features=192, bias=True)\n",
      "            (proj_drop): Dropout(p=0.0, inplace=False)\n",
      "            (softmax): Softmax(dim=-1)\n",
      "          )\n",
      "          (drop_path1): DropPath(drop_prob=0.018)\n",
      "          (norm2): LayerNorm((192,), eps=1e-05, elementwise_affine=True)\n",
      "          (mlp): Mlp(\n",
      "            (fc1): Linear(in_features=192, out_features=768, bias=True)\n",
      "            (act): GELU(approximate='none')\n",
      "            (drop1): Dropout(p=0.0, inplace=False)\n",
      "            (norm): Identity()\n",
      "            (fc2): Linear(in_features=768, out_features=192, bias=True)\n",
      "            (drop2): Dropout(p=0.0, inplace=False)\n",
      "          )\n",
      "          (drop_path2): DropPath(drop_prob=0.018)\n",
      "        )\n",
      "        (1): SwinTransformerBlock(\n",
      "          (norm1): LayerNorm((192,), eps=1e-05, elementwise_affine=True)\n",
      "          (attn): WindowAttention(\n",
      "            (qkv): Linear(in_features=192, out_features=576, bias=True)\n",
      "            (attn_drop): Dropout(p=0.0, inplace=False)\n",
      "            (proj): Linear(in_features=192, out_features=192, bias=True)\n",
      "            (proj_drop): Dropout(p=0.0, inplace=False)\n",
      "            (softmax): Softmax(dim=-1)\n",
      "          )\n",
      "          (drop_path1): DropPath(drop_prob=0.027)\n",
      "          (norm2): LayerNorm((192,), eps=1e-05, elementwise_affine=True)\n",
      "          (mlp): Mlp(\n",
      "            (fc1): Linear(in_features=192, out_features=768, bias=True)\n",
      "            (act): GELU(approximate='none')\n",
      "            (drop1): Dropout(p=0.0, inplace=False)\n",
      "            (norm): Identity()\n",
      "            (fc2): Linear(in_features=768, out_features=192, bias=True)\n",
      "            (drop2): Dropout(p=0.0, inplace=False)\n",
      "          )\n",
      "          (drop_path2): DropPath(drop_prob=0.027)\n",
      "        )\n",
      "      )\n",
      "    )\n",
      "    (2): SwinTransformerStage(\n",
      "      (downsample): PatchMerging(\n",
      "        (norm): LayerNorm((768,), eps=1e-05, elementwise_affine=True)\n",
      "        (reduction): Linear(in_features=768, out_features=384, bias=False)\n",
      "      )\n",
      "      (blocks): Sequential(\n",
      "        (0): SwinTransformerBlock(\n",
      "          (norm1): LayerNorm((384,), eps=1e-05, elementwise_affine=True)\n",
      "          (attn): WindowAttention(\n",
      "            (qkv): Linear(in_features=384, out_features=1152, bias=True)\n",
      "            (attn_drop): Dropout(p=0.0, inplace=False)\n",
      "            (proj): Linear(in_features=384, out_features=384, bias=True)\n",
      "            (proj_drop): Dropout(p=0.0, inplace=False)\n",
      "            (softmax): Softmax(dim=-1)\n",
      "          )\n",
      "          (drop_path1): DropPath(drop_prob=0.036)\n",
      "          (norm2): LayerNorm((384,), eps=1e-05, elementwise_affine=True)\n",
      "          (mlp): Mlp(\n",
      "            (fc1): Linear(in_features=384, out_features=1536, bias=True)\n",
      "            (act): GELU(approximate='none')\n",
      "            (drop1): Dropout(p=0.0, inplace=False)\n",
      "            (norm): Identity()\n",
      "            (fc2): Linear(in_features=1536, out_features=384, bias=True)\n",
      "            (drop2): Dropout(p=0.0, inplace=False)\n",
      "          )\n",
      "          (drop_path2): DropPath(drop_prob=0.036)\n",
      "        )\n",
      "        (1): SwinTransformerBlock(\n",
      "          (norm1): LayerNorm((384,), eps=1e-05, elementwise_affine=True)\n",
      "          (attn): WindowAttention(\n",
      "            (qkv): Linear(in_features=384, out_features=1152, bias=True)\n",
      "            (attn_drop): Dropout(p=0.0, inplace=False)\n",
      "            (proj): Linear(in_features=384, out_features=384, bias=True)\n",
      "            (proj_drop): Dropout(p=0.0, inplace=False)\n",
      "            (softmax): Softmax(dim=-1)\n",
      "          )\n",
      "          (drop_path1): DropPath(drop_prob=0.045)\n",
      "          (norm2): LayerNorm((384,), eps=1e-05, elementwise_affine=True)\n",
      "          (mlp): Mlp(\n",
      "            (fc1): Linear(in_features=384, out_features=1536, bias=True)\n",
      "            (act): GELU(approximate='none')\n",
      "            (drop1): Dropout(p=0.0, inplace=False)\n",
      "            (norm): Identity()\n",
      "            (fc2): Linear(in_features=1536, out_features=384, bias=True)\n",
      "            (drop2): Dropout(p=0.0, inplace=False)\n",
      "          )\n",
      "          (drop_path2): DropPath(drop_prob=0.045)\n",
      "        )\n",
      "        (2): SwinTransformerBlock(\n",
      "          (norm1): LayerNorm((384,), eps=1e-05, elementwise_affine=True)\n",
      "          (attn): WindowAttention(\n",
      "            (qkv): Linear(in_features=384, out_features=1152, bias=True)\n",
      "            (attn_drop): Dropout(p=0.0, inplace=False)\n",
      "            (proj): Linear(in_features=384, out_features=384, bias=True)\n",
      "            (proj_drop): Dropout(p=0.0, inplace=False)\n",
      "            (softmax): Softmax(dim=-1)\n",
      "          )\n",
      "          (drop_path1): DropPath(drop_prob=0.055)\n",
      "          (norm2): LayerNorm((384,), eps=1e-05, elementwise_affine=True)\n",
      "          (mlp): Mlp(\n",
      "            (fc1): Linear(in_features=384, out_features=1536, bias=True)\n",
      "            (act): GELU(approximate='none')\n",
      "            (drop1): Dropout(p=0.0, inplace=False)\n",
      "            (norm): Identity()\n",
      "            (fc2): Linear(in_features=1536, out_features=384, bias=True)\n",
      "            (drop2): Dropout(p=0.0, inplace=False)\n",
      "          )\n",
      "          (drop_path2): DropPath(drop_prob=0.055)\n",
      "        )\n",
      "        (3): SwinTransformerBlock(\n",
      "          (norm1): LayerNorm((384,), eps=1e-05, elementwise_affine=True)\n",
      "          (attn): WindowAttention(\n",
      "            (qkv): Linear(in_features=384, out_features=1152, bias=True)\n",
      "            (attn_drop): Dropout(p=0.0, inplace=False)\n",
      "            (proj): Linear(in_features=384, out_features=384, bias=True)\n",
      "            (proj_drop): Dropout(p=0.0, inplace=False)\n",
      "            (softmax): Softmax(dim=-1)\n",
      "          )\n",
      "          (drop_path1): DropPath(drop_prob=0.064)\n",
      "          (norm2): LayerNorm((384,), eps=1e-05, elementwise_affine=True)\n",
      "          (mlp): Mlp(\n",
      "            (fc1): Linear(in_features=384, out_features=1536, bias=True)\n",
      "            (act): GELU(approximate='none')\n",
      "            (drop1): Dropout(p=0.0, inplace=False)\n",
      "            (norm): Identity()\n",
      "            (fc2): Linear(in_features=1536, out_features=384, bias=True)\n",
      "            (drop2): Dropout(p=0.0, inplace=False)\n",
      "          )\n",
      "          (drop_path2): DropPath(drop_prob=0.064)\n",
      "        )\n",
      "        (4): SwinTransformerBlock(\n",
      "          (norm1): LayerNorm((384,), eps=1e-05, elementwise_affine=True)\n",
      "          (attn): WindowAttention(\n",
      "            (qkv): Linear(in_features=384, out_features=1152, bias=True)\n",
      "            (attn_drop): Dropout(p=0.0, inplace=False)\n",
      "            (proj): Linear(in_features=384, out_features=384, bias=True)\n",
      "            (proj_drop): Dropout(p=0.0, inplace=False)\n",
      "            (softmax): Softmax(dim=-1)\n",
      "          )\n",
      "          (drop_path1): DropPath(drop_prob=0.073)\n",
      "          (norm2): LayerNorm((384,), eps=1e-05, elementwise_affine=True)\n",
      "          (mlp): Mlp(\n",
      "            (fc1): Linear(in_features=384, out_features=1536, bias=True)\n",
      "            (act): GELU(approximate='none')\n",
      "            (drop1): Dropout(p=0.0, inplace=False)\n",
      "            (norm): Identity()\n",
      "            (fc2): Linear(in_features=1536, out_features=384, bias=True)\n",
      "            (drop2): Dropout(p=0.0, inplace=False)\n",
      "          )\n",
      "          (drop_path2): DropPath(drop_prob=0.073)\n",
      "        )\n",
      "        (5): SwinTransformerBlock(\n",
      "          (norm1): LayerNorm((384,), eps=1e-05, elementwise_affine=True)\n",
      "          (attn): WindowAttention(\n",
      "            (qkv): Linear(in_features=384, out_features=1152, bias=True)\n",
      "            (attn_drop): Dropout(p=0.0, inplace=False)\n",
      "            (proj): Linear(in_features=384, out_features=384, bias=True)\n",
      "            (proj_drop): Dropout(p=0.0, inplace=False)\n",
      "            (softmax): Softmax(dim=-1)\n",
      "          )\n",
      "          (drop_path1): DropPath(drop_prob=0.082)\n",
      "          (norm2): LayerNorm((384,), eps=1e-05, elementwise_affine=True)\n",
      "          (mlp): Mlp(\n",
      "            (fc1): Linear(in_features=384, out_features=1536, bias=True)\n",
      "            (act): GELU(approximate='none')\n",
      "            (drop1): Dropout(p=0.0, inplace=False)\n",
      "            (norm): Identity()\n",
      "            (fc2): Linear(in_features=1536, out_features=384, bias=True)\n",
      "            (drop2): Dropout(p=0.0, inplace=False)\n",
      "          )\n",
      "          (drop_path2): DropPath(drop_prob=0.082)\n",
      "        )\n",
      "      )\n",
      "    )\n",
      "    (3): SwinTransformerStage(\n",
      "      (downsample): PatchMerging(\n",
      "        (norm): LayerNorm((1536,), eps=1e-05, elementwise_affine=True)\n",
      "        (reduction): Linear(in_features=1536, out_features=768, bias=False)\n",
      "      )\n",
      "      (blocks): Sequential(\n",
      "        (0): SwinTransformerBlock(\n",
      "          (norm1): LayerNorm((768,), eps=1e-05, elementwise_affine=True)\n",
      "          (attn): WindowAttention(\n",
      "            (qkv): Linear(in_features=768, out_features=2304, bias=True)\n",
      "            (attn_drop): Dropout(p=0.0, inplace=False)\n",
      "            (proj): Linear(in_features=768, out_features=768, bias=True)\n",
      "            (proj_drop): Dropout(p=0.0, inplace=False)\n",
      "            (softmax): Softmax(dim=-1)\n",
      "          )\n",
      "          (drop_path1): DropPath(drop_prob=0.091)\n",
      "          (norm2): LayerNorm((768,), eps=1e-05, elementwise_affine=True)\n",
      "          (mlp): Mlp(\n",
      "            (fc1): Linear(in_features=768, out_features=3072, bias=True)\n",
      "            (act): GELU(approximate='none')\n",
      "            (drop1): Dropout(p=0.0, inplace=False)\n",
      "            (norm): Identity()\n",
      "            (fc2): Linear(in_features=3072, out_features=768, bias=True)\n",
      "            (drop2): Dropout(p=0.0, inplace=False)\n",
      "          )\n",
      "          (drop_path2): DropPath(drop_prob=0.091)\n",
      "        )\n",
      "        (1): SwinTransformerBlock(\n",
      "          (norm1): LayerNorm((768,), eps=1e-05, elementwise_affine=True)\n",
      "          (attn): WindowAttention(\n",
      "            (qkv): Linear(in_features=768, out_features=2304, bias=True)\n",
      "            (attn_drop): Dropout(p=0.0, inplace=False)\n",
      "            (proj): Linear(in_features=768, out_features=768, bias=True)\n",
      "            (proj_drop): Dropout(p=0.0, inplace=False)\n",
      "            (softmax): Softmax(dim=-1)\n",
      "          )\n",
      "          (drop_path1): DropPath(drop_prob=0.100)\n",
      "          (norm2): LayerNorm((768,), eps=1e-05, elementwise_affine=True)\n",
      "          (mlp): Mlp(\n",
      "            (fc1): Linear(in_features=768, out_features=3072, bias=True)\n",
      "            (act): GELU(approximate='none')\n",
      "            (drop1): Dropout(p=0.0, inplace=False)\n",
      "            (norm): Identity()\n",
      "            (fc2): Linear(in_features=3072, out_features=768, bias=True)\n",
      "            (drop2): Dropout(p=0.0, inplace=False)\n",
      "          )\n",
      "          (drop_path2): DropPath(drop_prob=0.100)\n",
      "        )\n",
      "      )\n",
      "    )\n",
      "  )\n",
      "  (norm): LayerNorm((768,), eps=1e-05, elementwise_affine=True)\n",
      "  (head): ClassifierHead(\n",
      "    (global_pool): SelectAdaptivePool2d(pool_type=avg, flatten=Identity())\n",
      "    (drop): Dropout(p=0.0, inplace=False)\n",
      "    (fc): Linear(in_features=768, out_features=32, bias=True)\n",
      "    (flatten): Identity()\n",
      "  )\n",
      ")\n"
     ]
    }
   ],
   "source": [
    "from timm.models.swin_transformer import SwinTransformer\n",
    "\n",
    "# Define the number of classes\n",
    "num_classes = 32\n",
    "\n",
    "# Load the Swin Transformer model for semantic segmentation\n",
    "model = SwinTransformer(\n",
    "    img_size=512,\n",
    "    patch_size=4,\n",
    "    in_chans=3,\n",
    "    num_classes=num_classes,\n",
    "    embed_dim=96,\n",
    "    depths=[2, 2, 6, 2],\n",
    "    num_heads=[3, 6, 12, 24],\n",
    "    window_size=7,\n",
    "    mlp_ratio=4.,\n",
    "    qkv_bias=True,\n",
    "    qk_scale=None,\n",
    "    drop_rate=0.,\n",
    "    attn_drop_rate=0.,\n",
    "    drop_path_rate=0.1,\n",
    "    norm_layer=nn.LayerNorm,\n",
    "    ape=False,\n",
    "    patch_norm=True,\n",
    "    use_checkpoint=False\n",
    ")\n",
    "\n",
    "# Move the model to the appropriate device\n",
    "model = model.to(device)\n",
    "print(model)"
   ]
  },
  {
   "cell_type": "code",
   "execution_count": 6,
   "id": "3270b32e",
   "metadata": {
    "execution": {
     "iopub.execute_input": "2024-09-15T04:17:55.461548Z",
     "iopub.status.busy": "2024-09-15T04:17:55.461125Z",
     "iopub.status.idle": "2024-09-15T04:17:55.467525Z",
     "shell.execute_reply": "2024-09-15T04:17:55.466610Z"
    },
    "papermill": {
     "duration": 0.01533,
     "end_time": "2024-09-15T04:17:55.469642",
     "exception": false,
     "start_time": "2024-09-15T04:17:55.454312",
     "status": "completed"
    },
    "tags": []
   },
   "outputs": [],
   "source": [
    "\n",
    "\n",
    "lossfunc = nn.CrossEntropyLoss()\n",
    "lr = 1e-4\n",
    "optim = torch.optim.Adam(model.parameters(), lr=lr, weight_decay=2e-5)"
   ]
  },
  {
   "cell_type": "code",
   "execution_count": 7,
   "id": "0d79ac57",
   "metadata": {
    "execution": {
     "iopub.execute_input": "2024-09-15T04:17:55.482278Z",
     "iopub.status.busy": "2024-09-15T04:17:55.481898Z",
     "iopub.status.idle": "2024-09-15T05:17:32.797357Z",
     "shell.execute_reply": "2024-09-15T05:17:32.796206Z"
    },
    "papermill": {
     "duration": 3577.343848,
     "end_time": "2024-09-15T05:17:32.818715",
     "exception": false,
     "start_time": "2024-09-15T04:17:55.474867",
     "status": "completed"
    },
    "tags": []
   },
   "outputs": [
    {
     "name": "stdout",
     "output_type": "stream",
     "text": [
      "Start training the network...\n"
     ]
    },
    {
     "name": "stderr",
     "output_type": "stream",
     "text": [
      "  2%|▏         | 1/60 [01:04<1:03:32, 64.62s/it]"
     ]
    },
    {
     "name": "stdout",
     "output_type": "stream",
     "text": [
      "Saving best weight at epoch: 0.......\n",
      "Train loss: 1.1476400166749954, Val loss: 1.1276316612958908\n",
      "EPOCH: 1/60\n",
      "Saving best weight at epoch: 1.......\n"
     ]
    },
    {
     "name": "stderr",
     "output_type": "stream",
     "text": [
      "  3%|▎         | 2/60 [02:04<59:55, 61.99s/it]  "
     ]
    },
    {
     "name": "stdout",
     "output_type": "stream",
     "text": [
      "Train loss: 1.0052358756462734, Val loss: 0.9746544897556305\n",
      "EPOCH: 2/60\n",
      "Saving best weight at epoch: 2.......\n"
     ]
    },
    {
     "name": "stderr",
     "output_type": "stream",
     "text": [
      "  5%|▌         | 3/60 [03:04<57:50, 60.89s/it]"
     ]
    },
    {
     "name": "stdout",
     "output_type": "stream",
     "text": [
      "Train loss: 0.9446430623531341, Val loss: 0.9578697919845581\n",
      "EPOCH: 3/60\n",
      "Saving best weight at epoch: 3.......\n"
     ]
    },
    {
     "name": "stderr",
     "output_type": "stream",
     "text": [
      "  7%|▋         | 4/60 [04:04<56:24, 60.43s/it]"
     ]
    },
    {
     "name": "stdout",
     "output_type": "stream",
     "text": [
      "Train loss: 0.9043157736460368, Val loss: 0.9491504848003387\n",
      "EPOCH: 4/60\n",
      "Saving best weight at epoch: 4.......\n"
     ]
    },
    {
     "name": "stderr",
     "output_type": "stream",
     "text": [
      "  8%|▊         | 5/60 [05:04<55:15, 60.27s/it]"
     ]
    },
    {
     "name": "stdout",
     "output_type": "stream",
     "text": [
      "Train loss: 0.9184065173069637, Val loss: 0.9415509104728699\n",
      "EPOCH: 5/60\n",
      "Saving best weight at epoch: 5.......\n"
     ]
    },
    {
     "name": "stderr",
     "output_type": "stream",
     "text": [
      " 10%|█         | 6/60 [06:02<53:49, 59.80s/it]"
     ]
    },
    {
     "name": "stdout",
     "output_type": "stream",
     "text": [
      "Train loss: 0.9185793111721675, Val loss: 0.9370643049478531\n",
      "EPOCH: 6/60\n"
     ]
    },
    {
     "name": "stderr",
     "output_type": "stream",
     "text": [
      " 12%|█▏        | 7/60 [07:02<52:36, 59.55s/it]"
     ]
    },
    {
     "name": "stdout",
     "output_type": "stream",
     "text": [
      "Train loss: 0.9018656462430954, Val loss: 0.937171396613121\n",
      "EPOCH: 7/60\n",
      "Saving best weight at epoch: 7.......\n"
     ]
    },
    {
     "name": "stderr",
     "output_type": "stream",
     "text": [
      " 13%|█▎        | 8/60 [08:01<51:29, 59.42s/it]"
     ]
    },
    {
     "name": "stdout",
     "output_type": "stream",
     "text": [
      "Train loss: 0.8980894108613332, Val loss: 0.9361067116260529\n",
      "EPOCH: 8/60\n"
     ]
    },
    {
     "name": "stderr",
     "output_type": "stream",
     "text": [
      " 15%|█▌        | 9/60 [08:59<50:20, 59.23s/it]"
     ]
    },
    {
     "name": "stdout",
     "output_type": "stream",
     "text": [
      "Train loss: 0.8922017673651378, Val loss: 0.9362313032150269\n",
      "EPOCH: 9/60\n",
      "Saving best weight at epoch: 9.......\n"
     ]
    },
    {
     "name": "stderr",
     "output_type": "stream",
     "text": [
      " 17%|█▋        | 10/60 [09:59<49:29, 59.40s/it]"
     ]
    },
    {
     "name": "stdout",
     "output_type": "stream",
     "text": [
      "Train loss: 0.8901257356007893, Val loss: 0.9353849232196808\n",
      "EPOCH: 10/60\n"
     ]
    },
    {
     "name": "stderr",
     "output_type": "stream",
     "text": [
      " 18%|█▊        | 11/60 [10:59<48:39, 59.59s/it]"
     ]
    },
    {
     "name": "stdout",
     "output_type": "stream",
     "text": [
      "Train loss: 0.8842252453168233, Val loss: 0.937768530845642\n",
      "EPOCH: 11/60\n",
      "Saving best weight at epoch: 11.......\n"
     ]
    },
    {
     "name": "stderr",
     "output_type": "stream",
     "text": [
      " 20%|██        | 12/60 [11:58<47:34, 59.47s/it]"
     ]
    },
    {
     "name": "stdout",
     "output_type": "stream",
     "text": [
      "Train loss: 0.8903150101502736, Val loss: 0.9352479487657547\n",
      "EPOCH: 12/60\n",
      "Saving best weight at epoch: 12.......\n"
     ]
    },
    {
     "name": "stderr",
     "output_type": "stream",
     "text": [
      " 22%|██▏       | 13/60 [12:58<46:37, 59.53s/it]"
     ]
    },
    {
     "name": "stdout",
     "output_type": "stream",
     "text": [
      "Train loss: 0.8714944899082184, Val loss: 0.9284652292728424\n",
      "EPOCH: 13/60\n",
      "Saving best weight at epoch: 13.......\n"
     ]
    },
    {
     "name": "stderr",
     "output_type": "stream",
     "text": [
      " 23%|██▎       | 14/60 [13:58<45:48, 59.76s/it]"
     ]
    },
    {
     "name": "stdout",
     "output_type": "stream",
     "text": [
      "Train loss: 0.8647037406762441, Val loss: 0.9228355526924134\n",
      "EPOCH: 14/60\n"
     ]
    },
    {
     "name": "stderr",
     "output_type": "stream",
     "text": [
      " 25%|██▌       | 15/60 [14:58<44:50, 59.79s/it]"
     ]
    },
    {
     "name": "stdout",
     "output_type": "stream",
     "text": [
      "Train loss: 0.8812834074099859, Val loss: 0.9538427472114563\n",
      "EPOCH: 15/60\n"
     ]
    },
    {
     "name": "stderr",
     "output_type": "stream",
     "text": [
      " 27%|██▋       | 16/60 [15:58<43:50, 59.79s/it]"
     ]
    },
    {
     "name": "stdout",
     "output_type": "stream",
     "text": [
      "Train loss: 0.8660047014554342, Val loss: 0.9622077822685242\n",
      "EPOCH: 16/60\n"
     ]
    },
    {
     "name": "stderr",
     "output_type": "stream",
     "text": [
      " 28%|██▊       | 17/60 [16:58<42:49, 59.74s/it]"
     ]
    },
    {
     "name": "stdout",
     "output_type": "stream",
     "text": [
      "Train loss: 0.8720471759637197, Val loss: 0.9261007130146026\n",
      "EPOCH: 17/60\n"
     ]
    },
    {
     "name": "stderr",
     "output_type": "stream",
     "text": [
      " 30%|███       | 18/60 [17:57<41:47, 59.70s/it]"
     ]
    },
    {
     "name": "stdout",
     "output_type": "stream",
     "text": [
      "Train loss: 0.8544649342695873, Val loss: 0.9314822316169739\n",
      "EPOCH: 18/60\n"
     ]
    },
    {
     "name": "stderr",
     "output_type": "stream",
     "text": [
      " 32%|███▏      | 19/60 [18:57<40:44, 59.63s/it]"
     ]
    },
    {
     "name": "stdout",
     "output_type": "stream",
     "text": [
      "Train loss: 0.8779020915428798, Val loss: 0.9538303315639496\n",
      "EPOCH: 19/60\n"
     ]
    },
    {
     "name": "stderr",
     "output_type": "stream",
     "text": [
      " 33%|███▎      | 20/60 [19:56<39:44, 59.62s/it]"
     ]
    },
    {
     "name": "stdout",
     "output_type": "stream",
     "text": [
      "Train loss: 0.8940235038598379, Val loss: 0.9368694514036179\n",
      "EPOCH: 20/60\n"
     ]
    },
    {
     "name": "stderr",
     "output_type": "stream",
     "text": [
      " 35%|███▌      | 21/60 [20:56<38:49, 59.74s/it]"
     ]
    },
    {
     "name": "stdout",
     "output_type": "stream",
     "text": [
      "Train loss: 0.8708356817563375, Val loss: 0.9389868795871734\n",
      "EPOCH: 21/60\n"
     ]
    },
    {
     "name": "stderr",
     "output_type": "stream",
     "text": [
      " 37%|███▋      | 22/60 [21:56<37:50, 59.74s/it]"
     ]
    },
    {
     "name": "stdout",
     "output_type": "stream",
     "text": [
      "Train loss: 0.8661693662405014, Val loss: 0.9373161137104035\n",
      "EPOCH: 22/60\n"
     ]
    },
    {
     "name": "stderr",
     "output_type": "stream",
     "text": [
      " 38%|███▊      | 23/60 [22:56<36:49, 59.73s/it]"
     ]
    },
    {
     "name": "stdout",
     "output_type": "stream",
     "text": [
      "Train loss: 0.854012617468834, Val loss: 0.9366640508174896\n",
      "EPOCH: 23/60\n"
     ]
    },
    {
     "name": "stderr",
     "output_type": "stream",
     "text": [
      " 40%|████      | 24/60 [23:55<35:49, 59.70s/it]"
     ]
    },
    {
     "name": "stdout",
     "output_type": "stream",
     "text": [
      "Train loss: 0.8685077925523123, Val loss: 0.9357134819030761\n",
      "EPOCH: 24/60\n"
     ]
    },
    {
     "name": "stderr",
     "output_type": "stream",
     "text": [
      " 42%|████▏     | 25/60 [24:55<34:49, 59.70s/it]"
     ]
    },
    {
     "name": "stdout",
     "output_type": "stream",
     "text": [
      "Train loss: 0.8722185959418615, Val loss: 0.9348589837551117\n",
      "EPOCH: 25/60\n"
     ]
    },
    {
     "name": "stderr",
     "output_type": "stream",
     "text": [
      " 43%|████▎     | 26/60 [25:55<33:46, 59.61s/it]"
     ]
    },
    {
     "name": "stdout",
     "output_type": "stream",
     "text": [
      "Train loss: 0.8474199712276459, Val loss: 0.9341854453086853\n",
      "EPOCH: 26/60\n"
     ]
    },
    {
     "name": "stderr",
     "output_type": "stream",
     "text": [
      " 45%|████▌     | 27/60 [26:54<32:42, 59.47s/it]"
     ]
    },
    {
     "name": "stdout",
     "output_type": "stream",
     "text": [
      "Train loss: 0.9251136293013891, Val loss: 0.9685540229082108\n",
      "EPOCH: 27/60\n"
     ]
    },
    {
     "name": "stderr",
     "output_type": "stream",
     "text": [
      " 47%|████▋     | 28/60 [27:53<31:39, 59.35s/it]"
     ]
    },
    {
     "name": "stdout",
     "output_type": "stream",
     "text": [
      "Train loss: 0.8628805836041769, Val loss: 0.9385368376970291\n",
      "EPOCH: 28/60\n"
     ]
    },
    {
     "name": "stderr",
     "output_type": "stream",
     "text": [
      " 48%|████▊     | 29/60 [28:52<30:39, 59.33s/it]"
     ]
    },
    {
     "name": "stdout",
     "output_type": "stream",
     "text": [
      "Train loss: 0.8625812272230784, Val loss: 0.9378983318805695\n",
      "EPOCH: 29/60\n"
     ]
    },
    {
     "name": "stderr",
     "output_type": "stream",
     "text": [
      " 50%|█████     | 30/60 [29:51<29:40, 59.36s/it]"
     ]
    },
    {
     "name": "stdout",
     "output_type": "stream",
     "text": [
      "Train loss: 0.8712110946575801, Val loss: 0.9370702862739563\n",
      "EPOCH: 30/60\n"
     ]
    },
    {
     "name": "stderr",
     "output_type": "stream",
     "text": [
      " 52%|█████▏    | 31/60 [30:51<28:41, 59.37s/it]"
     ]
    },
    {
     "name": "stdout",
     "output_type": "stream",
     "text": [
      "Train loss: 0.8644511312246322, Val loss: 0.9376558870077133\n",
      "EPOCH: 31/60\n"
     ]
    },
    {
     "name": "stderr",
     "output_type": "stream",
     "text": [
      " 53%|█████▎    | 32/60 [31:50<27:43, 59.43s/it]"
     ]
    },
    {
     "name": "stdout",
     "output_type": "stream",
     "text": [
      "Train loss: 0.8636964946985245, Val loss: 0.9367598801851272\n",
      "EPOCH: 32/60\n"
     ]
    },
    {
     "name": "stderr",
     "output_type": "stream",
     "text": [
      " 55%|█████▌    | 33/60 [32:50<26:45, 59.46s/it]"
     ]
    },
    {
     "name": "stdout",
     "output_type": "stream",
     "text": [
      "Train loss: 0.8439700404802958, Val loss: 0.9377358496189118\n",
      "EPOCH: 33/60\n"
     ]
    },
    {
     "name": "stderr",
     "output_type": "stream",
     "text": [
      " 57%|█████▋    | 34/60 [33:49<25:46, 59.48s/it]"
     ]
    },
    {
     "name": "stdout",
     "output_type": "stream",
     "text": [
      "Train loss: 0.8583330601453781, Val loss: 0.9373307824134827\n",
      "EPOCH: 34/60\n"
     ]
    },
    {
     "name": "stderr",
     "output_type": "stream",
     "text": [
      " 58%|█████▊    | 35/60 [34:49<24:49, 59.58s/it]"
     ]
    },
    {
     "name": "stdout",
     "output_type": "stream",
     "text": [
      "Train loss: 0.8721922387679418, Val loss: 0.9378053843975067\n",
      "EPOCH: 35/60\n"
     ]
    },
    {
     "name": "stderr",
     "output_type": "stream",
     "text": [
      " 60%|██████    | 36/60 [35:49<23:48, 59.52s/it]"
     ]
    },
    {
     "name": "stdout",
     "output_type": "stream",
     "text": [
      "Train loss: 0.8449951241413752, Val loss: 0.9375120669603347\n",
      "EPOCH: 36/60\n"
     ]
    },
    {
     "name": "stderr",
     "output_type": "stream",
     "text": [
      " 62%|██████▏   | 37/60 [36:48<22:47, 59.44s/it]"
     ]
    },
    {
     "name": "stdout",
     "output_type": "stream",
     "text": [
      "Train loss: 0.8562828143437703, Val loss: 0.9376057922840119\n",
      "EPOCH: 37/60\n"
     ]
    },
    {
     "name": "stderr",
     "output_type": "stream",
     "text": [
      " 63%|██████▎   | 38/60 [37:47<21:46, 59.38s/it]"
     ]
    },
    {
     "name": "stdout",
     "output_type": "stream",
     "text": [
      "Train loss: 0.8464269896348318, Val loss: 0.9364222109317779\n",
      "EPOCH: 38/60\n"
     ]
    },
    {
     "name": "stderr",
     "output_type": "stream",
     "text": [
      " 65%|██████▌   | 39/60 [38:47<20:49, 59.49s/it]"
     ]
    },
    {
     "name": "stdout",
     "output_type": "stream",
     "text": [
      "Train loss: 0.8584948221842448, Val loss: 0.9368113785982132\n",
      "EPOCH: 39/60\n"
     ]
    },
    {
     "name": "stderr",
     "output_type": "stream",
     "text": [
      " 67%|██████▋   | 40/60 [39:47<19:52, 59.60s/it]"
     ]
    },
    {
     "name": "stdout",
     "output_type": "stream",
     "text": [
      "Train loss: 0.8554031074047088, Val loss: 0.9374908238649369\n",
      "EPOCH: 40/60\n"
     ]
    },
    {
     "name": "stderr",
     "output_type": "stream",
     "text": [
      " 68%|██████▊   | 41/60 [40:47<18:53, 59.66s/it]"
     ]
    },
    {
     "name": "stdout",
     "output_type": "stream",
     "text": [
      "Train loss: 0.8501141548156739, Val loss: 0.9358531892299652\n",
      "EPOCH: 41/60\n"
     ]
    },
    {
     "name": "stderr",
     "output_type": "stream",
     "text": [
      " 70%|███████   | 42/60 [41:46<17:53, 59.63s/it]"
     ]
    },
    {
     "name": "stdout",
     "output_type": "stream",
     "text": [
      "Train loss: 0.8581010768810908, Val loss: 0.9359492391347886\n",
      "EPOCH: 42/60\n"
     ]
    },
    {
     "name": "stderr",
     "output_type": "stream",
     "text": [
      " 72%|███████▏  | 43/60 [42:46<16:54, 59.68s/it]"
     ]
    },
    {
     "name": "stdout",
     "output_type": "stream",
     "text": [
      "Train loss: 0.8415551473697026, Val loss: 0.9349635720252991\n",
      "EPOCH: 43/60\n"
     ]
    },
    {
     "name": "stderr",
     "output_type": "stream",
     "text": [
      " 73%|███████▎  | 44/60 [43:46<15:55, 59.75s/it]"
     ]
    },
    {
     "name": "stdout",
     "output_type": "stream",
     "text": [
      "Train loss: 0.8423191348711649, Val loss: 0.9328579992055893\n",
      "EPOCH: 44/60\n"
     ]
    },
    {
     "name": "stderr",
     "output_type": "stream",
     "text": [
      " 75%|███████▌  | 45/60 [44:46<14:56, 59.78s/it]"
     ]
    },
    {
     "name": "stdout",
     "output_type": "stream",
     "text": [
      "Train loss: 0.8361133793989818, Val loss: 0.9312909722328186\n",
      "EPOCH: 45/60\n"
     ]
    },
    {
     "name": "stderr",
     "output_type": "stream",
     "text": [
      " 77%|███████▋  | 46/60 [45:45<13:55, 59.68s/it]"
     ]
    },
    {
     "name": "stdout",
     "output_type": "stream",
     "text": [
      "Train loss: 0.8405797829230627, Val loss: 0.9487019926309586\n",
      "EPOCH: 46/60\n",
      "Saving best weight at epoch: 46.......\n"
     ]
    },
    {
     "name": "stderr",
     "output_type": "stream",
     "text": [
      " 78%|███████▊  | 47/60 [46:45<12:57, 59.77s/it]"
     ]
    },
    {
     "name": "stdout",
     "output_type": "stream",
     "text": [
      "Train loss: 0.8324928492307663, Val loss: 0.9140227675437927\n",
      "EPOCH: 47/60\n"
     ]
    },
    {
     "name": "stderr",
     "output_type": "stream",
     "text": [
      " 80%|████████  | 48/60 [47:44<11:55, 59.59s/it]"
     ]
    },
    {
     "name": "stdout",
     "output_type": "stream",
     "text": [
      "Train loss: 0.8673387120167414, Val loss: 0.9394859135150909\n",
      "EPOCH: 48/60\n"
     ]
    },
    {
     "name": "stderr",
     "output_type": "stream",
     "text": [
      " 82%|████████▏ | 49/60 [48:44<10:54, 59.51s/it]"
     ]
    },
    {
     "name": "stdout",
     "output_type": "stream",
     "text": [
      "Train loss: 0.8509613792101542, Val loss: 0.9351714015007019\n",
      "EPOCH: 49/60\n"
     ]
    },
    {
     "name": "stderr",
     "output_type": "stream",
     "text": [
      " 83%|████████▎ | 50/60 [49:43<09:55, 59.53s/it]"
     ]
    },
    {
     "name": "stdout",
     "output_type": "stream",
     "text": [
      "Train loss: 0.8611448248227437, Val loss: 0.9324449151754379\n",
      "EPOCH: 50/60\n"
     ]
    },
    {
     "name": "stderr",
     "output_type": "stream",
     "text": [
      " 85%|████████▌ | 51/60 [50:43<08:55, 59.55s/it]"
     ]
    },
    {
     "name": "stdout",
     "output_type": "stream",
     "text": [
      "Train loss: 0.833195436000824, Val loss: 0.9334700226783752\n",
      "EPOCH: 51/60\n"
     ]
    },
    {
     "name": "stderr",
     "output_type": "stream",
     "text": [
      " 87%|████████▋ | 52/60 [51:42<07:56, 59.51s/it]"
     ]
    },
    {
     "name": "stdout",
     "output_type": "stream",
     "text": [
      "Train loss: 0.8129541675249735, Val loss: 0.9588539600372314\n",
      "EPOCH: 52/60\n"
     ]
    },
    {
     "name": "stderr",
     "output_type": "stream",
     "text": [
      " 88%|████████▊ | 53/60 [52:41<06:55, 59.41s/it]"
     ]
    },
    {
     "name": "stdout",
     "output_type": "stream",
     "text": [
      "Train loss: 0.8273291021585465, Val loss: 0.933039516210556\n",
      "EPOCH: 53/60\n",
      "Saving best weight at epoch: 53.......\n"
     ]
    },
    {
     "name": "stderr",
     "output_type": "stream",
     "text": [
      " 90%|█████████ | 54/60 [53:41<05:56, 59.43s/it]"
     ]
    },
    {
     "name": "stdout",
     "output_type": "stream",
     "text": [
      "Train loss: 0.8114162713289261, Val loss: 0.9037014216184616\n",
      "EPOCH: 54/60\n",
      "Saving best weight at epoch: 54.......\n"
     ]
    },
    {
     "name": "stderr",
     "output_type": "stream",
     "text": [
      " 92%|█████████▏| 55/60 [54:41<04:57, 59.54s/it]"
     ]
    },
    {
     "name": "stdout",
     "output_type": "stream",
     "text": [
      "Train loss: 0.8125733594099681, Val loss: 0.90003043115139\n",
      "EPOCH: 55/60\n"
     ]
    },
    {
     "name": "stderr",
     "output_type": "stream",
     "text": [
      " 93%|█████████▎| 56/60 [55:40<03:57, 59.50s/it]"
     ]
    },
    {
     "name": "stdout",
     "output_type": "stream",
     "text": [
      "Train loss: 0.8051638255516688, Val loss: 0.9109187811613083\n",
      "EPOCH: 56/60\n"
     ]
    },
    {
     "name": "stderr",
     "output_type": "stream",
     "text": [
      " 95%|█████████▌| 57/60 [56:39<02:58, 59.42s/it]"
     ]
    },
    {
     "name": "stdout",
     "output_type": "stream",
     "text": [
      "Train loss: 0.799193795522054, Val loss: 0.9121444821357727\n",
      "EPOCH: 57/60\n"
     ]
    },
    {
     "name": "stderr",
     "output_type": "stream",
     "text": [
      " 97%|█████████▋| 58/60 [57:38<01:58, 59.34s/it]"
     ]
    },
    {
     "name": "stdout",
     "output_type": "stream",
     "text": [
      "Train loss: 0.7968195577462515, Val loss: 0.9034736186265946\n",
      "EPOCH: 58/60\n"
     ]
    },
    {
     "name": "stderr",
     "output_type": "stream",
     "text": [
      " 98%|█████████▊| 59/60 [58:38<00:59, 59.26s/it]"
     ]
    },
    {
     "name": "stdout",
     "output_type": "stream",
     "text": [
      "Train loss: 0.7785393178462983, Val loss: 0.9156030088663101\n",
      "EPOCH: 59/60\n"
     ]
    },
    {
     "name": "stderr",
     "output_type": "stream",
     "text": [
      "100%|██████████| 60/60 [59:37<00:00, 59.62s/it]"
     ]
    },
    {
     "name": "stdout",
     "output_type": "stream",
     "text": [
      "Train loss: 0.7949864407380421, Val loss: 0.9024204909801483\n",
      "EPOCH: 60/60\n",
      "total time taken to train the model: 3577.30s\n"
     ]
    },
    {
     "name": "stderr",
     "output_type": "stream",
     "text": [
      "\n"
     ]
    }
   ],
   "source": [
    "import torch.nn.functional as F\n",
    "\n",
    "num_epoch = 60\n",
    "\n",
    "print(\"Start training the network...\")\n",
    "startTime = time.time()\n",
    "\n",
    "val_loss = []\n",
    "train_loss = []\n",
    "\n",
    "best_loss = math.inf\n",
    "\n",
    "for epoch in tqdm(range(num_epoch)):\n",
    "    model.train()\n",
    "    totalTrainLoss = 0\n",
    "    totalTestLoss = 0\n",
    "    # loop over the training set\n",
    "    for (i, (raw, gt, _)) in enumerate(train_loader):\n",
    "        (raw, gt) = (raw.to(device), gt.to(device))\n",
    "        raw = raw.to(torch.float)\n",
    "        gt = gt.to(torch.float)\n",
    "        \n",
    "        # Remove the class dimension from the target tensor\n",
    "        gt = torch.argmax(gt, dim=1)\n",
    "        \n",
    "        outputs = model(raw)\n",
    "        logits = outputs  # Extract logits from the model output\n",
    "        \n",
    "        # Ensure logits have the correct shape\n",
    "        if logits.dim() == 2:\n",
    "            logits = logits.unsqueeze(2).unsqueeze(3)  # Add spatial dimensions if missing\n",
    "        \n",
    "        # Resize logits to match the target spatial dimensions\n",
    "        logits = F.interpolate(logits, size=(512, 512), mode='bilinear', align_corners=False)\n",
    "        \n",
    "        loss = lossfunc(logits, gt)\n",
    "\n",
    "        optim.zero_grad()\n",
    "        loss.backward()\n",
    "        optim.step()\n",
    "        # add the loss to the total training loss so far\n",
    "        totalTrainLoss += loss.item()\n",
    "        \n",
    "    train_loss.append(totalTrainLoss / len(train_loader))\n",
    "    \n",
    "    with torch.no_grad():\n",
    "        model.eval()\n",
    "        for (raw, gt, _) in val_loader:\n",
    "            (raw, gt) = (raw.to(device), gt.to(device))\n",
    "            raw = raw.to(torch.float)\n",
    "            gt = gt.to(torch.float)\n",
    "            \n",
    "            # Remove the class dimension from the target tensor\n",
    "            gt = torch.argmax(gt, dim=1)\n",
    "            \n",
    "            outputs = model(raw)\n",
    "            logits = outputs  # Extract logits from the model output\n",
    "            \n",
    "            # Ensure logits have the correct shape\n",
    "            if logits.dim() == 2:\n",
    "                logits = logits.unsqueeze(2).unsqueeze(3)  # Add spatial dimensions if missing\n",
    "            \n",
    "            # Resize logits to match the target spatial dimensions\n",
    "            logits = F.interpolate(logits, size=(512, 512), mode='bilinear', align_corners=False)\n",
    "            \n",
    "            curr_loss = lossfunc(logits, gt)\n",
    "            totalTestLoss += curr_loss.item()\n",
    "    val_loss.append(totalTestLoss / len(val_loader)) \n",
    "    \n",
    "    if(totalTestLoss < best_loss):\n",
    "        print(f'Saving best weight at epoch: {epoch}.......')\n",
    "        torch.save(model.state_dict(), f'model_weights.pth')    \n",
    "        best_loss = totalTestLoss\n",
    "            \n",
    "    print(f\"Train loss: {totalTrainLoss / len(train_loader)}, Val loss: {totalTestLoss / len(val_loader)}\")\n",
    "    \n",
    "    print(\"EPOCH: {}/{}\".format(epoch + 1, num_epoch))\n",
    "    \n",
    "endTime = time.time()\n",
    "print(\"total time taken to train the model: {:.2f}s\".format(endTime - startTime))"
   ]
  },
  {
   "cell_type": "code",
   "execution_count": 8,
   "id": "b6a80ece",
   "metadata": {
    "execution": {
     "iopub.execute_input": "2024-09-15T05:17:32.855187Z",
     "iopub.status.busy": "2024-09-15T05:17:32.854283Z",
     "iopub.status.idle": "2024-09-15T05:17:32.868016Z",
     "shell.execute_reply": "2024-09-15T05:17:32.867008Z"
    },
    "papermill": {
     "duration": 0.034479,
     "end_time": "2024-09-15T05:17:32.870392",
     "exception": false,
     "start_time": "2024-09-15T05:17:32.835913",
     "status": "completed"
    },
    "tags": []
   },
   "outputs": [],
   "source": [
    "# Evaluation functions\n",
    "def dice_coefficient(ground_truth, predicted, num_classes):\n",
    "    dice_scores = []\n",
    "    \n",
    "    for class_label in range(0, num_classes):\n",
    "        ground_truth_np = ground_truth.cpu().numpy()\n",
    "        predicted_np = predicted.cpu().numpy()\n",
    "        \n",
    "        intersection = np.sum((ground_truth_np == class_label) & (predicted_np == class_label))\n",
    "        union = np.sum((ground_truth_np == class_label) | (predicted_np == class_label))\n",
    "        \n",
    "        dice = (2.0 * intersection) / (union + intersection + 1e-8)\n",
    "        dice_scores.append(dice)\n",
    "    \n",
    "    avg_dice = np.sum(dice_scores) / len(np.unique(ground_truth.cpu().numpy()))\n",
    "    \n",
    "    return avg_dice, dice_scores\n",
    "\n",
    "def jaccard_index(ground_truth, predicted, num_classes):\n",
    "    intersection = torch.zeros(num_classes)\n",
    "    union = torch.zeros(num_classes)\n",
    "    \n",
    "    for class_label in range(0, num_classes):\n",
    "        intersection[class_label] = torch.sum(torch.logical_and(ground_truth == class_label, predicted == class_label))\n",
    "        union[class_label] = torch.sum(torch.logical_or(ground_truth == class_label, predicted == class_label))\n",
    "        union[class_label] += 1e-8\n",
    "    \n",
    "    jaccard_per_class = intersection / union\n",
    "    \n",
    "    avg_jaccard = torch.sum(jaccard_per_class) / len(np.unique(ground_truth.cpu().numpy()))\n",
    "    \n",
    "    return avg_jaccard.item(), jaccard_per_class.numpy() \n",
    "\n",
    "def calc_accuracy(ground_truth, predicted):\n",
    "    ground_truth_flat = ground_truth.view(-1)\n",
    "    correct_predictions = torch.sum(ground_truth == predicted).item()\n",
    "    total_pixels = ground_truth_flat.shape[0]\n",
    "    accuracy = correct_predictions / total_pixels\n",
    "    return accuracy\n",
    "\n",
    "def multilabel_f1_score(ground_truth, predicted, average='weighted'):\n",
    "    ground_truth_flat = ground_truth.view(-1)\n",
    "    predicted_flat = predicted.view(-1)\n",
    "    \n",
    "    ground_truth_np = ground_truth_flat.cpu().numpy()\n",
    "    predicted_np = predicted_flat.cpu().numpy()\n",
    "    \n",
    "    f1 = f1_score(ground_truth_np, predicted_np, average=average)\n",
    "    \n",
    "    return f1\n"
   ]
  },
  {
   "cell_type": "code",
   "execution_count": 9,
   "id": "b7cc4948",
   "metadata": {
    "execution": {
     "iopub.execute_input": "2024-09-15T05:17:32.906583Z",
     "iopub.status.busy": "2024-09-15T05:17:32.905676Z",
     "iopub.status.idle": "2024-09-15T05:17:54.064759Z",
     "shell.execute_reply": "2024-09-15T05:17:54.062495Z"
    },
    "papermill": {
     "duration": 21.179575,
     "end_time": "2024-09-15T05:17:54.067095",
     "exception": false,
     "start_time": "2024-09-15T05:17:32.887520",
     "status": "completed"
    },
    "tags": []
   },
   "outputs": [
    {
     "name": "stdout",
     "output_type": "stream",
     "text": [
      "Total Dice co-efficient is 0.24010929075409088, jaccard index is 0.22147633284330367, accuracy: 0.7715299987792968, F1 score: 0.6978487857280927\n"
     ]
    }
   ],
   "source": [
    "# Evaluation loop\n",
    "with torch.no_grad():\n",
    "    num_correct = 0\n",
    "    num_pixels = 0\n",
    "    dice_score = 0\n",
    "    jaccard_score = 0\n",
    "    acc = 0\n",
    "    f1score = 0\n",
    "    j_class_all = torch.zeros([32])\n",
    "    d_class_all = np.zeros([32])\n",
    "    model.eval()\n",
    "    for i, (raw, _, gt) in enumerate(test_loader):\n",
    "        (raw, gt) = (raw.to(device), gt.to(device))\n",
    "        raw = raw.to(torch.float)\n",
    "        gt = gt.to(torch.float)\n",
    "        \n",
    "        outputs = model(raw)\n",
    "        logits = outputs\n",
    "        \n",
    "        # Ensure logits have the correct shape\n",
    "        if logits.dim() == 2:\n",
    "            logits = logits.unsqueeze(2).unsqueeze(3)  \n",
    "        \n",
    "        # Resize logits to match the target spatial dimensions\n",
    "        logits = F.interpolate(logits, size=(512, 512), mode='bilinear', align_corners=False)\n",
    "        \n",
    "        softmax = nn.Softmax(dim=1)\n",
    "        pred = torch.argmax(softmax(logits), dim=1)\n",
    "        \n",
    "        gt = gt.to(torch.uint8)\n",
    "        pred = pred.to(torch.uint8)\n",
    "        dice, dice_class = dice_coefficient(gt, pred, 32)\n",
    "        jaccard, j_class = jaccard_index(gt, pred, 32)\n",
    "        accuracy = calc_accuracy(gt, pred)\n",
    "        f1 = multilabel_f1_score(gt, pred)\n",
    "        \n",
    "        dice_score += dice\n",
    "        jaccard_score += jaccard\n",
    "        acc += accuracy\n",
    "        f1score += f1\n",
    "        \n",
    "        j_class_all += j_class\n",
    "        d_class_all += dice_class\n",
    "\n",
    "print(f\"Total Dice co-efficient is {dice_score / (i + 1)}, jaccard index is {jaccard_score / (i + 1)}, accuracy: {acc / (i + 1)}, F1 score: {f1score / (i + 1)}\")\n",
    "\n"
   ]
  },
  {
   "cell_type": "code",
   "execution_count": 10,
   "id": "96b53f52",
   "metadata": {
    "execution": {
     "iopub.execute_input": "2024-09-15T05:17:54.104603Z",
     "iopub.status.busy": "2024-09-15T05:17:54.104157Z",
     "iopub.status.idle": "2024-09-15T05:17:55.364266Z",
     "shell.execute_reply": "2024-09-15T05:17:55.363319Z"
    },
    "papermill": {
     "duration": 1.280314,
     "end_time": "2024-09-15T05:17:55.366510",
     "exception": false,
     "start_time": "2024-09-15T05:17:54.086196",
     "status": "completed"
    },
    "tags": []
   },
   "outputs": [
    {
     "data": {
      "image/png": "[encoded data removed]",
      "text/plain": [
       "<Figure size 640x480 with 1 Axes>"
      ]
     },
     "metadata": {},
     "output_type": "display_data"
    }
   ],
   "source": [
    "classwisescore = j_class_all / i\n",
    "\n",
    "plt.bar(range(len(classwisescore)), classwisescore, color='skyblue', edgecolor='black', linewidth=1.5)\n",
    "plt.xlabel('Class label', fontsize=14)\n",
    "plt.ylabel('Jaccard coeff', fontsize=14)\n",
    "plt.savefig('jaccard_classwise.png', dpi=600) \n",
    "plt.show()"
   ]
  },
  {
   "cell_type": "code",
   "execution_count": 11,
   "id": "a5463789",
   "metadata": {
    "execution": {
     "iopub.execute_input": "2024-09-15T05:17:55.401236Z",
     "iopub.status.busy": "2024-09-15T05:17:55.400672Z",
     "iopub.status.idle": "2024-09-15T05:17:56.457177Z",
     "shell.execute_reply": "2024-09-15T05:17:56.456142Z"
    },
    "papermill": {
     "duration": 1.076548,
     "end_time": "2024-09-15T05:17:56.459673",
     "exception": false,
     "start_time": "2024-09-15T05:17:55.383125",
     "status": "completed"
    },
    "tags": []
   },
   "outputs": [
    {
     "data": {
      "image/png": "[encoded data removed]",
      "text/plain": [
       "<Figure size 640x480 with 1 Axes>"
      ]
     },
     "metadata": {},
     "output_type": "display_data"
    }
   ],
   "source": [
    "# Plotting the loss curves\n",
    "x = list(range(1, len(train_loss) + 1))  \n",
    "plt.plot(x, train_loss, label='train')  # Plot the first line and specify its label\n",
    "plt.plot(x, val_loss, label='val')  # Plot the second line and specify its label\n",
    "\n",
    "# Adding labels and title\n",
    "plt.xlabel('Epochs')\n",
    "plt.ylabel('Loss')\n",
    "plt.legend(['train loss', 'validation loss'])\n",
    "plt.savefig('loss_curve_multiclass.png', dpi=300) \n",
    "plt.show()\n",
    "    "
   ]
  }
 ],
 "metadata": {
  "kaggle": {
   "accelerator": "gpu",
   "dataSources": [
    {
     "datasetId": 5382509,
     "sourceId": 8944811,
     "sourceType": "datasetVersion"
    }
   ],
   "dockerImageVersionId": 30762,
   "isGpuEnabled": true,
   "isInternetEnabled": true,
   "language": "python",
   "sourceType": "notebook"
  },
  "kernelspec": {
   "display_name": "Python 3",
   "language": "python",
   "name": "python3"
  },
  "language_info": {
   "codemirror_mode": {
    "name": "ipython",
    "version": 3
   },
   "file_extension": ".py",
   "mimetype": "text/x-python",
   "name": "python",
   "nbconvert_exporter": "python",
   "pygments_lexer": "ipython3",
   "version": "3.10.14"
  },
  "papermill": {
   "default_parameters": {},
   "duration": 3648.480459,
   "end_time": "2024-09-15T05:18:00.121758",
   "environment_variables": {},
   "exception": null,
   "input_path": "__notebook__.ipynb",
   "output_path": "__notebook__.ipynb",
   "parameters": {},
   "start_time": "2024-09-15T04:17:11.641299",
   "version": "2.6.0"
  }
 },
 "nbformat": 4,
 "nbformat_minor": 5
}
